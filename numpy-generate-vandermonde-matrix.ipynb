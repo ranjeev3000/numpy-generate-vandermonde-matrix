{
  "nbformat": 4,
  "nbformat_minor": 0,
  "metadata": {
    "colab": {
      "name": "Numpy assignments.ipynb",
      "provenance": [],
      "authorship_tag": "ABX9TyM8yGWOHvnn4DzjCmL8ieHx",
      "include_colab_link": true
    },
    "kernelspec": {
      "name": "python3",
      "display_name": "Python 3"
    }
  },
  "cells": [
    {
      "cell_type": "markdown",
      "metadata": {
        "id": "view-in-github",
        "colab_type": "text"
      },
      "source": [
        "<a href=\"https://colab.research.google.com/github/ranjeev3000/numpy-generate-vandermonde-matrix/blob/main/numpy-generate-vandermonde-matrix.ipynb\" target=\"_parent\"><img src=\"https://colab.research.google.com/assets/colab-badge.svg\" alt=\"Open In Colab\"/></a>"
      ]
    },
    {
      "cell_type": "code",
      "metadata": {
        "colab": {
          "base_uri": "https://localhost:8080/",
          "height": 119
        },
        "id": "ckob7Afs6CZh",
        "outputId": "fd84fe49-5f49-4240-f033-773c91e837c2"
      },
      "source": [
        "'''\r\n",
        "Write a function so that the columns of the output matrix are powers of the input\r\n",
        "vector.\r\n",
        "The order of the powers is determined by the increasing boolean argument. Specifically, when\r\n",
        "increasing is False, the i-th output column is the input vector raised element-wise to the power\r\n",
        "of N - i - 1.\r\n",
        "\r\n",
        "HINT: Such a matrix with a geometric progression in each row is named for Alexandre-\r\n",
        "Theophile Vandermonde.\r\n",
        "'''"
      ],
      "execution_count": 1,
      "outputs": [
        {
          "output_type": "execute_result",
          "data": {
            "application/vnd.google.colaboratory.intrinsic+json": {
              "type": "string"
            },
            "text/plain": [
              "'\\nWrite a function so that the columns of the output matrix are powers of the input\\nvector.\\nThe order of the powers is determined by the increasing boolean argument. Specifically, when\\nincreasing is False, the i-th output column is the input vector raised element-wise to the power\\nof N - i - 1.\\n\\nHINT: Such a matrix with a geometric progression in each row is named for Alexandre-\\nTheophile Vandermonde.\\n'"
            ]
          },
          "metadata": {
            "tags": []
          },
          "execution_count": 1
        }
      ]
    },
    {
      "cell_type": "code",
      "metadata": {
        "id": "TEQ5gYV_8BM4"
      },
      "source": [
        "import numpy as np\r\n"
      ],
      "execution_count": 2,
      "outputs": []
    },
    {
      "cell_type": "code",
      "metadata": {
        "id": "IrYJ_wSU8MDU"
      },
      "source": [
        "x = np.array([1,2,3,4])"
      ],
      "execution_count": 5,
      "outputs": []
    },
    {
      "cell_type": "code",
      "metadata": {
        "colab": {
          "base_uri": "https://localhost:8080/"
        },
        "id": "Tgai5zTr8RrK",
        "outputId": "9296a884-8819-4b46-910c-ff9ebb441292"
      },
      "source": [
        "np.vander (x)"
      ],
      "execution_count": 6,
      "outputs": [
        {
          "output_type": "execute_result",
          "data": {
            "text/plain": [
              "array([[ 1,  1,  1,  1],\n",
              "       [ 8,  4,  2,  1],\n",
              "       [27,  9,  3,  1],\n",
              "       [64, 16,  4,  1]])"
            ]
          },
          "metadata": {
            "tags": []
          },
          "execution_count": 6
        }
      ]
    },
    {
      "cell_type": "code",
      "metadata": {
        "colab": {
          "base_uri": "https://localhost:8080/"
        },
        "id": "qULRRXTo8WPw",
        "outputId": "1f58db51-d27e-478d-8fb8-cae9e8b82878"
      },
      "source": [
        "np.vander(x,increasing=True)"
      ],
      "execution_count": 7,
      "outputs": [
        {
          "output_type": "execute_result",
          "data": {
            "text/plain": [
              "array([[ 1,  1,  1,  1],\n",
              "       [ 1,  2,  4,  8],\n",
              "       [ 1,  3,  9, 27],\n",
              "       [ 1,  4, 16, 64]])"
            ]
          },
          "metadata": {
            "tags": []
          },
          "execution_count": 7
        }
      ]
    },
    {
      "cell_type": "markdown",
      "metadata": {
        "id": "RgT_sa-EATsQ"
      },
      "source": [
        "Now, as per the question, we have to raise every elements in the matrix to n-i-1."
      ]
    },
    {
      "cell_type": "code",
      "metadata": {
        "id": "149G02RX8dA3"
      },
      "source": [
        "def gen_vander_matrix(ipvector,n,increasing=False):\r\n",
        "\r\n",
        "  if not increasing:\r\n",
        "    op_matx = np.array([x**(n-i-1) for x in ipvector for i in range(n)]).reshape(ipvector.size,n)\r\n",
        "  else:\r\n",
        "    op_matx = \r\n",
        "    "
      ],
      "execution_count": 9,
      "outputs": []
    },
    {
      "cell_type": "code",
      "metadata": {
        "colab": {
          "base_uri": "https://localhost:8080/"
        },
        "id": "Vhzjy0RsBmql",
        "outputId": "be663f0b-058d-474e-b5c8-13857bbc4300"
      },
      "source": [
        "print(\"------------OUTPUT-----------\\n\")\r\n",
        "\r\n",
        "inputvector = np.array ([1,2,3,4,5])\r\n",
        "no_col_opmatx = 3\r\n",
        "op_matx_dec_order = gen_vander_matrix(inputvector, no_col_opmatx, False)\r\n",
        "op_matx_inc_order = gen_vander_matrix(inputvector, no_col_opmatx, True)\r\n",
        "\r\n",
        "print(f\"The input array is : {inputvector}\\n\")\r\n",
        "print(f\"No. of columns on which matrix is reshaped is {no_col_opmatx}\")\r\n",
        "print(f\"Vander matrix of the input array in decreasing order of powers:\\n {op_matx_dec_order}\")\r\n",
        "print(f\"Vander matrix of the input array in increasing order is : \\n{op_matx_inc_order}\")"
      ],
      "execution_count": 12,
      "outputs": [
        {
          "output_type": "stream",
          "text": [
            "------------OUTPUT-----------\n",
            "\n",
            "The input array is : [1 2 3 4 5]\n",
            "\n",
            "No. of columns on which matrix is reshaped is 3\n",
            "Vander matrix of the input array in decreasing order of powers:\n",
            " [[ 1  1  1]\n",
            " [ 4  2  1]\n",
            " [ 9  3  1]\n",
            " [16  4  1]\n",
            " [25  5  1]]\n",
            "Vander matrix of the input array in increasing order is : \n",
            "[[ 1  1  1]\n",
            " [ 1  2  4]\n",
            " [ 1  3  9]\n",
            " [ 1  4 16]\n",
            " [ 1  5 25]]\n"
          ],
          "name": "stdout"
        }
      ]
    },
    {
      "cell_type": "code",
      "metadata": {
        "id": "eoC_Bxn_N9St"
      },
      "source": [
        ""
      ],
      "execution_count": null,
      "outputs": []
    }
  ]
}